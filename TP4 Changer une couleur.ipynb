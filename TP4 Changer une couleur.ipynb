{
 "cells": [
  {
   "cell_type": "markdown",
   "metadata": {},
   "source": [
    "<h1 style=\"color:teal;\">TP4: Changer une couleur d&apos;une image</h1>"
   ]
  },
  {
   "cell_type": "markdown",
   "metadata": {},
   "source": [
    "<h3>Tout au long du TP4, nous allons travailler avec l&apos;image suivante<br/>  </h3><img src=\"image1.png\" alt=\"image\" width=300 height=180  >"
   ]
  },
  {
   "cell_type": "markdown",
   "metadata": {},
   "source": [
    "<b>Pour changer une couleur</b>, par exemple remplacer le ciel bleu par un ciel plus noir (pour faire croire qu&apos;il fait nuit), il faut se donner un critère pour définir ce que l&apos;on considère comme étant le bleu à modifier.<br/><br/>\n",
    "On peut par exemple choisir le critère suivant : <br/>On considère qu&apos;un pixel est bleu dès que la composante bleue est supérieure d&apos;un certain seuil aux deux autres composantes .<br/><br/>\n",
    "Avec le module numpy les composantes couleurs sont des nombres décimaux compris entre 0 et 1, choisissons arbitrairement un seuil de 0,1.<br/>\n",
    "Donc si b > r + 0.1 et b > v + 0.1,  on peut décider de remplacer r, v et b par le plus petite de ces trois valeurs pour obtenir un gris aussi sombre que la couleur la plus sombre des trois.\n"
   ]
  },
  {
   "cell_type": "markdown",
   "metadata": {},
   "source": [
    "<h3><span style=\"text-decoration: underline;\">Exercice 1</span></h3><br/>\n",
    "Compléter les -  -  -  par du code pour obtenir un ciel gris sombre."
   ]
  },
  {
   "cell_type": "code",
   "execution_count": null,
   "metadata": {},
   "outputs": [],
   "source": [
    "from numpy import copy                # on importe les modules nécessaires\n",
    "from matplotlib import image\n",
    "from matplotlib import pyplot\n",
    "\n",
    "img = image.imread(\"image1.png\")      # On récupère image1\n",
    "img2 = copy(img)                      # On fait une copie de l'original\n",
    "largeur=img.shape[0]                  # on récupère le nombre de pixels en largueur de l'image\n",
    "hauteur=img.shape[1]                  # on récupère le nombre de pixels en hauteur de l'image\n",
    "for i in range(largeur):              # On parcourt la photo pixel par pixel en largeur et en hauteur\n",
    "    for j in range(hauteur):\n",
    "        r, v, b = img2[i, j]                  # On récupère les trois composantes r, v, b du pixel de coordonnnées (i, j)\n",
    "        if b > - - - and b > - - - :          # Si la composante bleue est dominante\n",
    "            if r < _ _ _ :                    # Si la composante rouge est la plus faible\n",
    "                img2[i, j] = (r, r, r)        # On change la couleur de ce pixel en gris foncé\n",
    "            else:                             # Si c'est la composante verte qui est la plus faible\n",
    "                img2[i, j] = (- - -)         # On change la couleur de ce pixel en gris foncé\n",
    "\n",
    "pyplot.imshow(img2)\n",
    "pyplot.show()                         # on affiche l'image modifiée"
   ]
  },
  {
   "cell_type": "markdown",
   "metadata": {},
   "source": [
    "<h3><span style=\"text-decoration: underline;\">Remarque</span></h3>\n",
    "C&apos;est ce genre de modification des couleurs qui permet de corriger l&apos;effet &#34;yeux rouge&#34; que l'on a sur certaines images.<br/>\n",
    "Il faut cependant être capable de ne corriger la couleur rouge que sur une petite partie de l'image (aux niveaux des yeux) afin de ne pas modifier le reste de l'image.<br/><br/>"
   ]
  },
  {
   "cell_type": "markdown",
   "metadata": {},
   "source": [
    "<h3><span style=\"text-decoration: underline;\">Exercice 2</span></h3><br/>\n",
    "Pour cet exercice, l'objectif est de changer la couleur du blouson qui devra passer de rouge à violette.<br/>\n",
    "Nous appliquerons ce changement sur l&apos;image entière, cela ne devrait pas trop altérer le reste de l&apos;image car le blouson est la seule partie franchemenr rouge.<br/>\n",
    "Pour passer du rouge au violet, vous changerez la composante bleue de la couleur pour la mettre au même niveau que la composante rouge.<br/><br/>\n",
    "Compléter les -  -  -  par du code pour changer la zone rouge (le blouson) en violet."
   ]
  },
  {
   "cell_type": "code",
   "execution_count": null,
   "metadata": {},
   "outputs": [],
   "source": [
    "from numpy import copy                # on importe les modules nécessaires\n",
    "from matplotlib import image\n",
    "from matplotlib import pyplot\n",
    "\n",
    "img = image.imread(\"image1.png\")      # On récupère image1\n",
    "img2 = copy(img)                      # On fait une copie de l'original\n",
    "largeur=img.shape[0]                  # on récupère le nombre de pixels en largueur de l'image\n",
    "hauteur=img.shape[1]                  # on récupère le nombre de pixels en hauteur de l'image\n",
    "for i in range(largeur):              # On parcourt la photo pixel par pixel en largeur et en hauteur\n",
    "    for j in range(hauteur):\n",
    "        r, v, b = img2[i, j]          # On récupère les trois composantes r, v, b du pixel de coordonnnées (i, j)\n",
    "        if --- and --- :              # Si la composante bleue est dominante\n",
    "            img2[i, j] = (--- )       # On change la couleur de ce pixel en gris foncé\n",
    "\n",
    "pyplot.imshow(img2)\n",
    "pyplot.show()                         # on affiche l'image modifiée"
   ]
  }
 ],
 "metadata": {
  "kernelspec": {
   "display_name": "Python 3",
   "language": "python",
   "name": "python3"
  },
  "language_info": {
   "codemirror_mode": {
    "name": "ipython",
    "version": 3
   },
   "file_extension": ".py",
   "mimetype": "text/x-python",
   "name": "python",
   "nbconvert_exporter": "python",
   "pygments_lexer": "ipython3",
   "version": "3.4.5"
  }
 },
 "nbformat": 4,
 "nbformat_minor": 2
}
