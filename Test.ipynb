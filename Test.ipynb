{
 "cells": [
  {
   "cell_type": "code",
   "execution_count": null,
   "metadata": {
    "collapsed": true
   },
   "outputs": [],
   "source": [
    "from numpy import copy                # On importe les modules nécessaires\n",
    "from matplotlib import image\n",
    "from matplotlib import pyplot\n",
    "\n",
    "img = image.imread(\"image1.png\")      # On récupère image1\n",
    "img2 = copy(img)                      # On fait une copie de l'original\n",
    "largeur=img.shape[0]                  # on récupère le nombre de pixels en largueur de l'image\n",
    "hauteur=img.shape[1]                  # on récupère le nombre de pixels en hauteur de l'image\n",
    "for i in range(largeur):              # On parcourt la photo pixel par pixel en largeur et en hauteur\n",
    "    for j in range(hauteur):\n",
    "        r, v, b = img2[i, j]          # On récupère les trois composantes r, v, b du pixel de coordonnnées (i, j)\n",
    "        img2[i, j] = (r, 0, 0)        # On change la couleur de ce pixel\n",
    "\n",
    "pyplot.imshow(img2)\n",
    "pyplot.show()                         # on affiche l'image modifiée"
   ]
  },
  {
   "cell_type": "code",
   "execution_count": null,
   "metadata": {
    "collapsed": true
   },
   "outputs": [],
   "source": [
    "from PIL import Image\n",
    "# on importe le module Image de la bibliothèque PIL\n",
    "\n",
    "img=Image.open(\"image1.png\")     # ouvre la photo et la stocke dans la variable img\n",
    "largeur, hauteur = img.size                 # permet de récupérer les dimensions de l'image\n",
    "img2=Image.new(\"RGB\", (largeur, hauteur))   # créer une autre image codé en RVB de même dimension que img\n",
    "\n",
    "for i in range(largeur):                    # on parcourt tous les pixels en largeur de img\n",
    "    for j in range(hauteur):                # et tous les pixels en hauteur de img\n",
    "       r, v, b = img.getpixel((i, j))\n",
    "       # on récupère les trois composantes de couleur du pixel de coordonnées (i, j)\n",
    "       g=int((r+v+b)/3)\n",
    "       img2.putpixel((i, j), (g, g, g))\n",
    "       # on colore le pixel de coordonnées (i, j) de img2 en n'utilisant que la composante rouge de img\n",
    "\n",
    "img2.show()                                  # on affiche img2"
   ]
  }
 ],
 "metadata": {
  "kernelspec": {
   "display_name": "Python 3",
   "language": "python",
   "name": "python3"
  },
  "language_info": {
   "codemirror_mode": {
    "name": "ipython",
    "version": 3
   },
   "file_extension": ".py",
   "mimetype": "text/x-python",
   "name": "python",
   "nbconvert_exporter": "python",
   "pygments_lexer": "ipython3",
   "version": "3.4.5"
  }
 },
 "nbformat": 4,
 "nbformat_minor": 2
}
