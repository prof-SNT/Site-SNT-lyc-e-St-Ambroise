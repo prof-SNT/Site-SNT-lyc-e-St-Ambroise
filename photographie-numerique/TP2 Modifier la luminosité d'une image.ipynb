{
 "cells": [
  {
   "cell_type": "markdown",
   "metadata": {
    "collapsed": true
   },
   "source": [
    "<h1 style=\"color:teal;\">TP2: Modifier la luminosité d&apos;une image</h1>"
   ]
  },
  {
   "cell_type": "markdown",
   "metadata": {},
   "source": [
    "<h3>Tout au long du TP2, nous allons travailler avec l'image suivante<br/>  </h3><img src=\"image1.png\" alt=\"image\" width=300 height=180  >"
   ]
  },
  {
   "cell_type": "markdown",
   "metadata": {},
   "source": [
    "<br/><h2><span style=\"color:rgb(100,100,255);\">Partie I:  Augmenter la luminosité d&apos;une image</span></h2>"
   ]
  },
  {
   "cell_type": "markdown",
   "metadata": {},
   "source": [
    "Pour modifier la luminosité d'une image, il faut éclaircir les zones les plus sombres et ne pas pas modifier les zones les plus claires.<br/>\n",
    "Pour cela, il faut modifier les trois composantes des couleurs r, v et b à l'aide d'une fonction bien choisie.<br/>\n",
    "Cette fonction f doit avoir les caractéristiques suivantes :<br/>\n",
    "- Être définie sur [0, 1] (comme les composantes des couleurs r, v, b du module numpy) ;\n",
    "- Avoir des images qui restent dans [0, 1], avec en particulier f(0)=0 et f(1)=1 ;\n",
    "- Avoir une représentation graphique au dessus de <span style=\"color:green;\"><b>la droite d'équation y=x </b></span>.<br/>\n",
    "<br/>\n",
    "Ci-dessous trois fonctions possibles définies sur [0 ; 1] : <br/>\n",
    "- <b style=\"color:blue;\">La fonction racine carrée </b> <br/>\n",
    "- <b style=\"color:black;\">la fonction f définie par f(x)=-(x-1)<sup>2</sup>+1 </b><br/>\n",
    "- <b style=\"color:red;\">la fonction g définie par g(x)=(x-1)<sup>3</sup>+1 </b>"
   ]
  },
  {
   "cell_type": "markdown",
   "metadata": {},
   "source": [
    "<img src=\"courbes_luminosité.png\" alt=\"image\" width=300 height=300  >"
   ]
  },
  {
   "cell_type": "markdown",
   "metadata": {},
   "source": [
    "<h3><span style=\"text-decoration: underline;\">Exercice 1</span></h3><br/>\n",
    "<b>Pour augmenter la luminosité</b> de image1 <b>modifier</b> le code suivant en utilisant <b>la fonction racine carrée</b> (la racine carrée est une fonction du module math et &#8730;x se note sqrt(x) en python)."
   ]
  },
  {
   "cell_type": "code",
   "execution_count": null,
   "metadata": {},
   "outputs": [],
   "source": [
    "from numpy import copy                # on importe les modules nécessaires     \n",
    "from matplotlib import image\n",
    "from matplotlib import pyplot\n",
    "from math import sqrt\n",
    "\n",
    "img = image.imread(\"image1.png\")      # On récupère image1\n",
    "img2 = copy(img)                      # On fait une copie de l'original\n",
    "largeur=img.shape[0]                  # on récupère le nombre de pixels en largueur de l'image\n",
    "hauteur=img.shape[1]                  # on récupère le nombre de pixels en hauteur de l'image\n",
    "for i in range(largeur):              # On parcourt la photo pixel par pixel en largeur et en hauteur\n",
    "    for j in range(hauteur):\n",
    "        r, v, b = img2[i, j]          # On récupère les trois composantes r, v, b du pixel de coordonnnées (i, j)\n",
    "        img2[i, j] = (r, v, b)        # On change la couleur de ce pixel\n",
    "\n",
    "pyplot.imshow(img2)\n",
    "pyplot.show()                         # on affiche l'image modifiée"
   ]
  },
  {
   "cell_type": "markdown",
   "metadata": {},
   "source": [
    "<h3><span style=\"text-decoration: underline;\">Exercice 2</span></h3><br/>\n",
    "<b>Faire de même</b> en utilisant la fonction f définie par f(x)=-(x-1)<sup>2</sup>+1.<br/>\n",
    "Rappel : x<sup>2</sup> se note x**2 sous python."
   ]
  },
  {
   "cell_type": "code",
   "execution_count": null,
   "metadata": {},
   "outputs": [],
   "source": [
    "from numpy import copy                # on importe les modules nécessaires     \n",
    "from matplotlib import image\n",
    "from matplotlib import pyplot\n",
    "\n",
    "img = image.imread(\"image1.png\")      # On récupère image1\n",
    "img2 = copy(img)                      # On fait une copie de l'original\n",
    "largeur=img.shape[0]                  # on récupère le nombre de pixels en largueur de l'image\n",
    "hauteur=img.shape[1]                  # on récupère le nombre de pixels en hauteur de l'image\n",
    "for i in range(largeur):              # On parcourt la photo pixel par pixel en largeur et en hauteur\n",
    "    for j in range(hauteur):\n",
    "        r, v, b = img2[i, j]          # On récupère les trois composantes r, v, b du pixel de coordonnnées (i, j)\n",
    "        img2[i, j] = (r, v, b)        # On change la couleur de ce pixel\n",
    "\n",
    "pyplot.imshow(img2)\n",
    "pyplot.show()                         # on affiche l'image modifiée"
   ]
  },
  {
   "cell_type": "markdown",
   "metadata": {},
   "source": [
    "<h3><span style=\"text-decoration: underline;\">Exercice 3</span></h3><br/>\n",
    "<b>Faire de même</b> en utilisant la fonction f définie par f(x)=(x-1)<sup>3</sup>+1."
   ]
  },
  {
   "cell_type": "code",
   "execution_count": null,
   "metadata": {},
   "outputs": [],
   "source": [
    "from numpy import copy                # on importe les modules nécessaires     \n",
    "from matplotlib import image\n",
    "from matplotlib import pyplot\n",
    "\n",
    "img = image.imread(\"image1.png\")      # On récupère image1\n",
    "img2 = copy(img)                      # On fait une copie de l'original\n",
    "largeur=img.shape[0]                  # on récupère le nombre de pixels en largueur de l'image\n",
    "hauteur=img.shape[1]                  # on récupère le nombre de pixels en hauteur de l'image\n",
    "for i in range(largeur):              # On parcourt la photo pixel par pixel en largeur et en hauteur\n",
    "    for j in range(hauteur):\n",
    "        r, v, b = img2[i, j]          # On récupère les trois composantes r, v, b du pixel de coordonnnées (i, j)\n",
    "        img2[i, j] = ((r, v, b)        # On change la couleur de ce pixel\n",
    "\n",
    "pyplot.imshow(img2)\n",
    "pyplot.show()                         # on affiche l'image modifiée"
   ]
  },
  {
   "cell_type": "markdown",
   "metadata": {},
   "source": [
    "<br/><h2><span style=\"color:rgb(100,100,255);\">Partie II:  Diminuer la luminosité d&apos;une image</span></h2>"
   ]
  },
  {
   "cell_type": "markdown",
   "metadata": {},
   "source": [
    "Il faut procéder de la même manière en utilisant une fonction qui doit cette fois avoir sa représentation graphique située en dessous de <span style=\"color:green;\"><b>la droite d'équation y=x</b></span>.<br/>\n",
    "<b style=\"color:blue;\">La fonction carrée </b> et <b style=\"color:red;\">la fonction cube </b> conviennent."
   ]
  },
  {
   "cell_type": "markdown",
   "metadata": {},
   "source": [
    "<img src=\"courbes_luminosité2.png\" alt=\"image\" width=300 height=300  >"
   ]
  },
  {
   "cell_type": "markdown",
   "metadata": {},
   "source": [
    "<h3><span style=\"text-decoration: underline;\">Exercice 4</span></h3><br/>\n",
    "<b>Pour diminuer la luminosité</b> de image1 <b>modifier</b> le code suivant en utilisant <b>la fonction carrée</b>."
   ]
  },
  {
   "cell_type": "code",
   "execution_count": null,
   "metadata": {},
   "outputs": [],
   "source": [
    "from numpy import copy                # on importe les modules nécessaires     \n",
    "from matplotlib import image\n",
    "from matplotlib import pyplot\n",
    "\n",
    "img = image.imread(\"image1.png\")      # On récupère image1\n",
    "img2 = copy(img)                      # On fait une copie de l'original\n",
    "largeur=img.shape[0]                  # on récupère le nombre de pixels en largueur de l'image\n",
    "hauteur=img.shape[1]                  # on récupère le nombre de pixels en hauteur de l'image\n",
    "for i in range(largeur):              # On parcourt la photo pixel par pixel en largeur et en hauteur\n",
    "    for j in range(hauteur):\n",
    "        r, v, b = img2[i, j]          # On récupère les trois composantes r, v, b du pixel de coordonnnées (i, j)\n",
    "        img2[i, j] = (r, v, b)        # On change la couleur de ce pixel\n",
    "\n",
    "pyplot.imshow(img2)\n",
    "pyplot.show()                         # on affiche l'image modifiée"
   ]
  },
  {
   "cell_type": "markdown",
   "metadata": {},
   "source": [
    "<h3><span style=\"text-decoration: underline;\">Exercice 5</span></h3><br/>\n",
    "<b>Faire de même</b> en utilisant <b>la fonction cube</b>."
   ]
  },
  {
   "cell_type": "code",
   "execution_count": null,
   "metadata": {},
   "outputs": [],
   "source": [
    "from numpy import copy                # on importe les modules nécessaires     \n",
    "from matplotlib import image\n",
    "from matplotlib import pyplot\n",
    "\n",
    "img = image.imread(\"image1.png\")      # On récupère image1\n",
    "img2 = copy(img)                      # On fait une copie de l'original\n",
    "largeur=img.shape[0]                  # on récupère le nombre de pixels en largueur de l'image\n",
    "hauteur=img.shape[1]                  # on récupère le nombre de pixels en hauteur de l'image\n",
    "for i in range(largeur):              # On parcourt la photo pixel par pixel en largeur et en hauteur\n",
    "    for j in range(hauteur):\n",
    "        r, v, b = img2[i, j]          # On récupère les trois composantes r, v, b du pixel de coordonnnées (i, j)\n",
    "        img2[i, j] = (r, v, b)        # On change la couleur de ce pixel\n",
    "\n",
    "pyplot.imshow(img2)\n",
    "pyplot.show()                         # on affiche l'image modifiée"
   ]
  },
  {
   "cell_type": "code",
   "execution_count": null,
   "metadata": {
    "collapsed": true
   },
   "outputs": [],
   "source": []
  }
 ],
 "metadata": {
  "kernelspec": {
   "display_name": "Python 3",
   "language": "python",
   "name": "python3"
  },
  "language_info": {
   "codemirror_mode": {
    "name": "ipython",
    "version": 3
   },
   "file_extension": ".py",
   "mimetype": "text/x-python",
   "name": "python",
   "nbconvert_exporter": "python",
   "pygments_lexer": "ipython3",
   "version": "3.4.5"
  }
 },
 "nbformat": 4,
 "nbformat_minor": 2
}
