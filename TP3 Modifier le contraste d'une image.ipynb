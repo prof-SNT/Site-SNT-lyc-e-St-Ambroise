{
 "cells": [
  {
   "cell_type": "markdown",
   "metadata": {},
   "source": [
    "<h1 style=\"color:teal;\">TP3: Modifier le contraste d&apos;une image</h1>"
   ]
  },
  {
   "cell_type": "markdown",
   "metadata": {},
   "source": [
    "<h3>Tout au long du TP3, nous allons travailler avec l&apos;image suivante<br/>  </h3><img src=\"image1.png\" alt=\"image\" width=300 height=180  >"
   ]
  },
  {
   "cell_type": "markdown",
   "metadata": {},
   "source": [
    "<br/><h2><span style=\"color:rgb(100,100,255);\">Partie I : Augmenter le contraste d&apos;une image</span></h2>"
   ]
  },
  {
   "cell_type": "markdown",
   "metadata": {},
   "source": [
    "Pour augmenter le contraste d'&apos;une image il faut assombrir un peu plus les zones déjà sombres et éclaircir les zone déjà claires. Le but étant d&apos;exagérer les différences entre les niveaux de luminosité<br/>\n",
    "Pour cela, il faut modifier les trois composantes des couleurs r, v et b à l&apos;aide d'une fonction bien choisie.<br/>\n",
    "Cette fonction f doit avoir les caractéristiques suivantes :<br/>\n",
    "- Être définie sur [0, 1] (comme les composantes des couleurs r, v, b du module numpy) ;\n",
    "- Avoir des images qui restent dans [0, 1], avec en particulier f(0)=0 f(0,5)=0,5 et f(1)=1 ;\n",
    "- Avoir une représentation graphique au dessous de <span style=\"color:green;\"><b>la droite d&apos;équation y=x </b></span> sur l&apos;intervalle [0, 0,5] et au dessus sur l&apos;intervalle [0,5 ; 1].<br/>\n",
    "<br/>\n",
    "Voici une fonction possible définie sur [0 ; 1] : <b style=\"color:red;\">La fonction f définie par f(x)=0.5sin(&#960;(x-0.5))+0.5 </b> "
   ]
  },
  {
   "cell_type": "markdown",
   "metadata": {},
   "source": [
    "<img src=\"courbe_contraste.png\" alt=\"image\" width=300 height=300  >"
   ]
  },
  {
   "cell_type": "markdown",
   "metadata": {},
   "source": [
    "<h3><span style=\"text-decoration: underline;\">Exercice 1</span></h3><br/>\n",
    "<b>Pour augmenter le contraste</b> de image1 <b>modifier</b> le code suivant en utilisant <b>la fonction f précédente</b>.<br/>\n",
    "A l'aide du <b>module math</b>, la <b>fonction sinus</b> se note sin et le nombre <b>&#960;</b> se note pi.<br/>\n",
    "<b>Rappel :</b> sous python les multiplications se notent avec un &#149; qui est obligatoire. Exemple: ab se note a&#149;b"
   ]
  },
  {
   "cell_type": "code",
   "execution_count": null,
   "metadata": {
    "collapsed": true
   },
   "outputs": [],
   "source": [
    "from numpy import copy                # on importe les modules nécessaires     \n",
    "from matplotlib import image\n",
    "from matplotlib import pyplot\n",
    "from math import sin, pi\n",
    "\n",
    "img = image.imread(\"image1.png\")      # On récupère image1\n",
    "img2 = copy(img)                      # On fait une copie de l'original\n",
    "largeur=img.shape[0]                  # on récupère le nombre de pixels en largueur de l'image\n",
    "hauteur=img.shape[1]                  # on récupère le nombre de pixels en hauteur de l'image\n",
    "for i in range(largeur):              # On parcourt la photo pixel par pixel en largeur et en hauteur\n",
    "    for j in range(hauteur):\n",
    "        r, v, b = img2[i, j]          # On récupère les trois composantes r, v, b du pixel de coordonnnées (i, j)\n",
    "        img2[i, j] = (r, v, b)        # On change la couleur de ce pixel\n",
    "\n",
    "pyplot.imshow(img2)\n",
    "pyplot.show()                         # on affiche l'image modifiée"
   ]
  },
  {
   "cell_type": "markdown",
   "metadata": {},
   "source": [
    "<br/><h2><span style=\"color:rgb(100,100,255);\">Partie II : Diminuer le contraste d&apos;une image</span></h2>"
   ]
  },
  {
   "cell_type": "markdown",
   "metadata": {
    "collapsed": true
   },
   "source": [
    "Pour diminuer le contraste d'&apos;une image il faut éclaircir les zones sombres et assombrir les zone claires. Le but étant de diminuer les différences entre les niveaux de luminosité.<br/>\n",
    "Il faut utiliser une fonction qui a les mêmes caractéristiques que les fonctions utilisées pour augmenter le contraste avec la différence suivante :<br/>\n",
    "Avoir une représentation graphique au dessus de <span style=\"color:green;\"><b>la droite d'équation y=x </b></span> sur l&apos;intervalle [0, 0,5] et en dessous sur l&apos;intervalle [0,5 ; 1].<br/>\n",
    "<br/>\n",
    "Voici une fonction possible définie sur [0 ; 1] : <b style=\"color:red;\">La fonction f définie par f(x)=2x<sup>3</sup>-3x<sup>2</sup>+2x </b> "
   ]
  },
  {
   "cell_type": "markdown",
   "metadata": {},
   "source": [
    "<img src=\"courbe_contraste2.png\" alt=\"image\" width=300 height=300  >"
   ]
  },
  {
   "cell_type": "markdown",
   "metadata": {},
   "source": [
    "<h3><span style=\"text-decoration: underline;\">Exercice 2</span></h3><br/>\n",
    "<b>Pour diminuer le contraste</b> de image1 <b>modifier</b> le code suivant en utilisant <b>la fonction f précédente</b>.<br/>\n",
    "Rappel : x<sup>2</sup> se note x**2 sous python."
   ]
  },
  {
   "cell_type": "code",
   "execution_count": null,
   "metadata": {
    "collapsed": true
   },
   "outputs": [],
   "source": [
    "from numpy import copy                # on importe les modules nécessaires     \n",
    "from matplotlib import image\n",
    "from matplotlib import pyplot\n",
    "\n",
    "img = image.imread(\"image1.png\")      # On récupère image1\n",
    "img2 = copy(img)                      # On fait une copie de l'original\n",
    "largeur=img.shape[0]                  # on récupère le nombre de pixels en largueur de l'image\n",
    "hauteur=img.shape[1]                  # on récupère le nombre de pixels en hauteur de l'image\n",
    "for i in range(largeur):              # On parcourt la photo pixel par pixel en largeur et en hauteur\n",
    "    for j in range(hauteur):\n",
    "        r, v, b = img2[i, j]          # On récupère les trois composantes r, v, b du pixel de coordonnnées (i, j)\n",
    "        img2[i, j] = (r, v, b)        # On change la couleur de ce pixel\n",
    "\n",
    "pyplot.imshow(img2)\n",
    "pyplot.show()                         # on affiche l'image modifiée"
   ]
  }
 ],
 "metadata": {
  "kernelspec": {
   "display_name": "Python 3",
   "language": "python",
   "name": "python3"
  },
  "language_info": {
   "codemirror_mode": {
    "name": "ipython",
    "version": 3
   },
   "file_extension": ".py",
   "mimetype": "text/x-python",
   "name": "python",
   "nbconvert_exporter": "python",
   "pygments_lexer": "ipython3",
   "version": "3.4.5"
  }
 },
 "nbformat": 4,
 "nbformat_minor": 2
}
