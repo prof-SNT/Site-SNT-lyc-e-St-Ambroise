{
 "cells": [
  {
   "cell_type": "markdown",
   "metadata": {},
   "source": [
    "<h1 style=\"color:teal;\">Utiliser un notebook</h1>\n"
   ]
  },
  {
   "cell_type": "markdown",
   "metadata": {},
   "source": [
    "Une <span style=\"color:blue;\">cellule</span> qui contient du code Python est précédée du mot \n",
    "<span style=\"color:blue;\">IN [ ]:</span>  \n",
    "Pour exécuter une <span style=\"color:blue;\">cellule</span> qui contient du code Python, \n",
    "il faut d'abord cliquer dans cette cellule,  \n",
    "puis il faut cliquer sur l'onglet **Exécuter** situé dans la barre d'outils ci-dessus.  \n",
    "Il est important de bien exécuter les cellules dans l'ordre, c'est à dire du haut en bas.  "
   ]
  },
  {
   "cell_type": "markdown",
   "metadata": {},
   "source": [
    "**Exemple :** Cliquer dans la cellule ci-dessous, puis cliquer dans la barre d'outils sur l'onglet **Exécuter**.<br/>  \n",
    "Le programme doit alors afficher <b style=\"color:red;\"> J'ai réussi ! </b> en sortie."
   ]
  },
  {
   "cell_type": "code",
   "execution_count": null,
   "metadata": {
    "collapsed": true
   },
   "outputs": [],
   "source": [
    "print(\"J'ai réussi !\")"
   ]
  },
  {
   "cell_type": "markdown",
   "metadata": {},
   "source": [
    "**Modifier** le programme suivant pour qu'il affiche <b style=\"color:red;\"> Je suis trop fort !"
   ]
  },
  {
   "cell_type": "code",
   "execution_count": null,
   "metadata": {
    "collapsed": true
   },
   "outputs": [],
   "source": [
    "print(\"c'est trop dur pour moi\")"
   ]
  }
 ],
 "metadata": {
  "kernelspec": {
   "display_name": "Python 3",
   "language": "python",
   "name": "python3"
  },
  "language_info": {
   "codemirror_mode": {
    "name": "ipython",
    "version": 3
   },
   "file_extension": ".py",
   "mimetype": "text/x-python",
   "name": "python",
   "nbconvert_exporter": "python",
   "pygments_lexer": "ipython3",
   "version": "3.4.5"
  }
 },
 "nbformat": 4,
 "nbformat_minor": 2
}
