{
 "cells": [
  {
   "cell_type": "markdown",
   "metadata": {},
   "source": [
    "<h1 style=\"color:teal;\">Utiliser un notebook</h1>\n"
   ]
  },
  {
   "cell_type": "markdown",
   "metadata": {},
   "source": [
    "<br/><br/>Une <span style=\"color:blue;\">cellule</span> qui contient du code Python est précédée du mot \n",
    "<span style=\"color:blue;\">In [ ]:</span>  ou du mot <span style=\"color:blue;\">Entrée [ ]:</span><br/><br/> \n",
    "Pour exécuter une <span style=\"color:blue;\">cellule</span> qui contient du code Python, il faut d&apos;abord cliquer dans cette cellule, puis il faut cliquer sur l&apos;onglet <b>Exécuter</b> situé dans la barre d&apos;outils ci-dessus. <br/><br/> \n",
    "Il est important de bien exécuter les cellules dans l&apos;ordre, c&apos;est à dire du haut en bas. <br/><br/>\n",
    "Il est possible d&apos;exécuter autant de fois que l'on souhaite une cellule avec du code python.<br/><br/>"
   ]
  },
  {
   "cell_type": "markdown",
   "metadata": {},
   "source": [
    "<span style=\"text-decoration: underline;\"><b>Exemple :</b></span> Cliquer dans la cellule ci-dessous, puis cliquer dans la barre d'outils sur l'onglet **Exécuter**.<br/>  \n",
    "Le programme doit alors afficher <b style=\"color:red;\"> J'ai réussi ! </b> en sortie.<br/><br/>"
   ]
  },
  {
   "cell_type": "code",
   "execution_count": null,
   "metadata": {
    "collapsed": true
   },
   "outputs": [],
   "source": [
    "print(\"J'ai réussi !\")"
   ]
  },
  {
   "cell_type": "markdown",
   "metadata": {},
   "source": [
    "<br/><b>Modifier<b> le programme suivant pour qu&apos;il affiche : <b style=\"color:red;\"> Je suis trop fort !<br/><br/>"
   ]
  },
  {
   "cell_type": "code",
   "execution_count": null,
   "metadata": {
    "collapsed": true
   },
   "outputs": [],
   "source": [
    "print(\"c'est trop dur pour moi\")"
   ]
  }
 ],
 "metadata": {
  "kernelspec": {
   "display_name": "Python 3",
   "language": "python",
   "name": "python3"
  },
  "language_info": {
   "codemirror_mode": {
    "name": "ipython",
    "version": 3
   },
   "file_extension": ".py",
   "mimetype": "text/x-python",
   "name": "python",
   "nbconvert_exporter": "python",
   "pygments_lexer": "ipython3",
   "version": "3.4.5"
  }
 },
 "nbformat": 4,
 "nbformat_minor": 2
}
