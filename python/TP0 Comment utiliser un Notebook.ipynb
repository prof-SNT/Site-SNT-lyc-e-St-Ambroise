{
 "cells": [
  {
   "cell_type": "markdown",
   "metadata": {},
   "source": [
    "<h1 style=\"color:teal;\">Utiliser un notebook</h1>\n"
   ]
  },
  {
   "cell_type": "markdown",
   "metadata": {},
   "source": [
    "Un notebook est consitué de plusieurs <b>cellules</b>. Certaines comme celle-ci sont constituées de texte pour donner à l&apos;utilisateur du notebook des explications.<br><br>\n",
    "D'autres cellules sont précédée du mot <span style=\"color:blue;\">In [ ]:</span>  ou du mot <span style=\"color:blue;\">Entrée [ ]:</span> . Une cellule de ce type contient du code Python. Elle peut être exécutée directement en ligne à l'aide de l&apos;onglet <b>Exécuter</b> situé dans la barre d&apos;outils ci-dessus. <br/><br/> \n",
    "Il est important de bien exécuter les cellules qui contiennent du code Python dans l&apos;ordre, c&apos;est à dire du haut en bas. <br/><br/>\n",
    "Il est possible d&apos;exécuter autant de fois que l'on souhaite une cellule qui contient du code Python.<br/><br/>"
   ]
  },
  {
   "cell_type": "markdown",
   "metadata": {},
   "source": [
    "<span style=\"text-decoration: underline;\"><b>Exemple :</b></span> <br>\n",
    "La fonction <b><span style=\"color:green;\">print()</span></b> (dans la cellule ci-dessous) permet en Python de demander à l&apos;ordinateur d&apos;afficher quelque chose.<br><br>\n",
    "Cliquer dans la cellule ci-dessous, puis cliquer dans la barre d'outils sur l'onglet **Exécuter**.<br/>  \n",
    "Le programme doit alors afficher <b style=\"color:red;\"> J'ai réussi ! </b> en sortie.<br/><br/>"
   ]
  },
  {
   "cell_type": "code",
   "execution_count": null,
   "metadata": {
    "collapsed": true
   },
   "outputs": [],
   "source": [
    "print(\"J'ai réussi !\")"
   ]
  },
  {
   "cell_type": "markdown",
   "metadata": {},
   "source": [
    "<br/><b>Modifier</b> le programme suivant puis l&apos;exécuter pour qu&apos;il affiche : <b style=\"color:red;\"> Je suis trop fort !<br/><br/>"
   ]
  },
  {
   "cell_type": "code",
   "execution_count": null,
   "metadata": {
    "collapsed": true
   },
   "outputs": [],
   "source": [
    "print(\"c'est trop dur pour moi\")"
   ]
  }
 ],
 "metadata": {
  "kernelspec": {
   "display_name": "Python 3",
   "language": "python",
   "name": "python3"
  },
  "language_info": {
   "codemirror_mode": {
    "name": "ipython",
    "version": 3
   },
   "file_extension": ".py",
   "mimetype": "text/x-python",
   "name": "python",
   "nbconvert_exporter": "python",
   "pygments_lexer": "ipython3",
   "version": "3.4.5"
  }
 },
 "nbformat": 4,
 "nbformat_minor": 2
}
