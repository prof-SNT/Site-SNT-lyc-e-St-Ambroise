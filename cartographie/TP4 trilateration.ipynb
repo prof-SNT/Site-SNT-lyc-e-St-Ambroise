{
 "cells": [
  {
   "cell_type": "markdown",
   "metadata": {},
   "source": [
    "<h1 style=\"color:teal;\">TP4 Trilatération</h1>"
   ]
  },
  {
   "cell_type": "markdown",
   "metadata": {},
   "source": [
    "<h2><span style=\"text-decoration: underline;\">Objectif du TP :</span></h2><br>\n",
    "On cherche à calculer la distance entre un satellite et un recepteur GPS à partir de la connaissance de l&apos;heure d'émission et de l&apos;heure de réception d&apos;un signal émis par le satellite."
   ]
  },
  {
   "cell_type": "markdown",
   "metadata": {},
   "source": [
    "<h2 style=\"color:rgb(100, 100, 255);\">Partie I : Calcul du temps de parcours du signal :</h2><br>\n",
    "On notera <b>t1</b> l&apos;heure d&apos;émission et <b>t2</b> l&apos;heure de réception.<br>\n",
    "On commence par <b>convertir</b> t1 et t2 en secondes (il faut n'utiliser qu'une seule unité de mesure). On rapelle qu'il y a 60 secondes dans une minute et 3600 secondes dans une heure<br>\n",
    "On calcule ensuite <b>la différence</b> entre t1 et t2 pour obtenir le temps de parcours du signal."
   ]
  },
  {
   "cell_type": "markdown",
   "metadata": {},
   "source": [
    "<h3><span style=\"text-decoration: underline;\">Exercice 1</span></h3><br/>\n",
    "<b>Compléter</b> le code suivant (remplacer les \"- - -\" par du code) pour qu&apos;il renvoie le temps de parcours d'un signal en secondes."
   ]
  },
  {
   "cell_type": "code",
   "execution_count": null,
   "metadata": {},
   "outputs": [],
   "source": [
    "h1 = int(input(\"donner les heures correspondantes à l'émission du signal : \"))       # Saisie des données de temps\n",
    "m1 = int(input(\"donner les minutes correspondantes à l'émission du signal : \"))\n",
    "s1 = float(input(\"donner les secondes correspondantes à l'émission du signal : \"))\n",
    "h2 = int(input(\"donner les heures correspondantes à la réception du signal : \"))\n",
    "m2 = int(input(\"donner les minutes correspondantes à la réception du signal : \"))\n",
    "s2 = float(input(\"donner les secondes correspondantes à la réception du signal : \"))\n",
    "\n",
    "t1 = h1*3600 + m1* - - - + s1                            # l'heure d'émission est convertie en secondes\n",
    "t2 = - - -                                               # l'heure de réception est convertie en secondes\n",
    "tempsParcours = - - -                                    # calcul du temps de parcours en secondes\n",
    "print(\"le temps de parcours du signal est de  : \", - - - , \" secondes\") # on affiche la réponse"
   ]
  },
  {
   "cell_type": "markdown",
   "metadata": {},
   "source": [
    "<br><h2 style=\"color:rgb(100, 100, 255);\">Partie II : Calcul de la distance entre le satellite et le récepteur :</h2><br>\n",
    "Maintenant que le temps de parcours est connu, on va pouvoir en déduire la distance qui sépare le satellite du récepteur.<br>\n",
    "Pour cela, on utilise la formule <b>v = d/t</b> qui relie la <b>vitesse</b>, la <b>distance</b> et le <b>temps</b>.<br>\n",
    "Dans notre cas, c'est la distance que l'on cherche, donc on transforme la formule pour obtenir : <b>d = v*t</b>.<br>\n",
    "La vitesse du signal émis par le satellite est celle de la lumière soit <b>300 000 km/s</b>. L'unité de distance sera donc le km."
   ]
  },
  {
   "cell_type": "markdown",
   "metadata": {},
   "source": [
    "<h3><span style=\"text-decoration: underline;\">Exercice 2</span></h3><br/>\n",
    "<b>Compléter</b> le code suivant (remplacer les \"- - -\" par du code) pour qu&apos;il renvoie la distance entre le satellite et le récepteur.<br>\n",
    "<h4><span style=\"text-decoration: underline;\">Vérification</span></h4>\n",
    "Pour vérifier votre programme, utiliser l'exemple suivant : <br>\n",
    "Un signal émis à 18 h 35 min 24,525800 s   est capté par un récepteur GPS à 18 h 35 min 24,593650 s.<br>\n",
    "Vérifier que la distance entre le satellite et le récepteur est de 20 355 km (environ)."
   ]
  },
  {
   "cell_type": "code",
   "execution_count": null,
   "metadata": {},
   "outputs": [],
   "source": [
    "h1 = int(input(\"donner les heures correspondantes à l'émission du signal : \"))       # Saisie des données de temps\n",
    "m1 = int(input(\"donner les minutes correspondantes à l'émission du signal : \"))\n",
    "s1 = float(input(\"donner les secondes correspondantes à l'émission du signal : \"))\n",
    "h2 = int(input(\"donner les heures correspondantes à la réception du signal : \"))\n",
    "m2 = int(input(\"donner les minutes correspondantes à la réception du signal : \"))\n",
    "s2 = float(input(\"donner les secondes correspondantes à la réception du signal : \"))\n",
    "\n",
    "t1 = h1*3600 + m1*60 + s1                            # l'heure d'émission est convertie en secondes\n",
    "t2 = h2*3600 + m2*60 + s2                            # l'heure de réception est convertie en secondes\n",
    "tempsParcours = - - -                                # calcul du temps de parcours\n",
    "distance = - - -  * - - -                            # calcul de la distance entre le satellite et le récepteur\n",
    "print(\"la distance entre le satellite et le récepteur est de  : \", - - - , \" km\")    # on affiche la réponse"
   ]
  }
 ],
 "metadata": {
  "kernelspec": {
   "display_name": "Python 3",
   "language": "python",
   "name": "python3"
  },
  "language_info": {
   "codemirror_mode": {
    "name": "ipython",
    "version": 3
   },
   "file_extension": ".py",
   "mimetype": "text/x-python",
   "name": "python",
   "nbconvert_exporter": "python",
   "pygments_lexer": "ipython3",
   "version": "3.4.5"
  }
 },
 "nbformat": 4,
 "nbformat_minor": 2
}
