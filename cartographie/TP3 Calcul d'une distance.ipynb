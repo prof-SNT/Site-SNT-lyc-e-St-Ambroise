{
 "cells": [
  {
   "cell_type": "markdown",
   "metadata": {},
   "source": [
    "<h1 style=\"color:teal;\">TP3 Calcul d&apos;une distance</h1>"
   ]
  },
  {
   "cell_type": "markdown",
   "metadata": {},
   "source": [
    "On cherche à caculer la distance entre deux points du globe à partir de leurs coordonnées géographiques.<br>\n",
    "Le calcul est assez compliqué car il ne s&apos;agit pas simplement de calculer la longueur d&apos;un segment mais la longueur d&apos;un arc de cercle situé sur la sphère terrestre.<img src=\"orthodromie.png\" alt=\"image\" width=700 height=450  > "
   ]
  },
  {
   "cell_type": "markdown",
   "metadata": {},
   "source": [
    "<h3><span style=\"text-decoration: underline;\">L&apos;orthodromie</span></h3><br>\n",
    "On veut calculer la distance entre deux points du globe A et D (voir schéma ci-dessus).<br>\n",
    "Pour cela, on considère le cercle passant par A et par D et ayant pour centre le centre de la terre.<br>\n",
    "Sur ce cercle, l'arc entre A et D s&apos;appelle <b>l&apos;orthodromie</b>. La longueur de cette orthodromie permet de calculer la plus courte distance pour se déplacer sur la sphère terrestre de A à D.<br><br>\n",
    "A noter que cette distance ne correspond pas à la distance du segment [AD] sur une carte terrestre.<br> \n",
    "En effet, en mettant à plat la surface d'une sphère (pour obtenir une carte) on provoque une \"distortion\" de la réalité. "
   ]
  },
  {
   "cell_type": "markdown",
   "metadata": {},
   "source": [
    "<h3><span style=\"text-decoration: underline;\">La loxodromie</span></h3><br/>\n",
    "La courbe sur la sphère terrestre qui coïncide avec le segment [AD] sur la carte s&apos;appelle la <b>loxodromie</b>.\n",
    "Contrairement à ce que nous laisse penser la carte, la distance la plus courte entre deux points du globe se calcule en utilisant l'orthodromie et non la loxodromie.<br><br>\n",
    "La losodromie a pour particularité d'étre une trajectoire qui a un angle constant avec chacun des méridiens qu'elle rencontre.<br>\n",
    "Ci dessous un exemple de loxodromie avec la propriété ci-dessus illustrée.<br>\n",
    "Lorsque l'on met à plat la surface du globe, la loxodromie se transforme en un segment.<br><br>\n",
    "A noter qu'il existe deux cas de figure pour lesquels loxodromie et orthodromie sont confondues :<br>\n",
    "-Lorsque les deux points sont situés sur l'équateur ;<br>\n",
    "-Lorsque les deux points sont situés sur le même méridien.<img src=\"loxodromie.png\" alt=\"image\" width=400 height=400  >"
   ]
  },
  {
   "cell_type": "markdown",
   "metadata": {
    "collapsed": true
   },
   "source": [
    "<h3><span style=\"text-decoration: underline;\">Calcul de l&apos;orthodromie</span></h3><br/>\n",
    "Pour calculer la distance entre deux points A et B, on calcule donc l&apos;orthodromie. Pour cela, on utilise les coordonnées géographiques sous forme décimale des deux points.<br>\n",
    "Notons lat1 et long1 la latitude et la longitude de A.<br>\n",
    "Notons lat2 et long2 la latitude et la longitude de B.<br><br>\n",
    "<span style=\"text-decoration:underline;\"><b>Formule :</b></span><br>\n",
    "La longueur de l&apos;orthodromie est :\n",
    "<b>6371 &#42; arccos(sin(lat1) &#42; sin(lat2) + cos(lat1) &#42; cos(lat2) &#42; cos(long2-lo,g1))</b><br><br>\n",
    "<span style=\"text-decoration:underline;\">Remarque :</span> 6371 représente le rayon terreste en km."
   ]
  },
  {
   "cell_type": "markdown",
   "metadata": {},
   "source": [
    "<h3><span style=\"text-decoration: underline;\">Exercice</span></h3><br/>\n",
    "<b>Compléter</b> le code suivant (remplacer les \"- - -\" par du code) pour qu&apos;il renvoie la distance entre deux points du globe dont les coordonnées géographiques sont renseignées par l&apos;utilisateur (sous forme décimale).<br><br>\n",
    "<b>Compléments sur Python :</b><br>\n",
    "Il faut importer les fonction <b>sin</b>, <b>cos</b> et <b>arcos</b> du module maths.<br>\n",
    "Ces fonctions travaillent avec des mesures d'angles en radians, il faut donc transformer nos coordonnées pour qu'elles ne soient plus exprimées en degrés, mais en radians.<br>\n",
    "Pour cela on utilise la fonction <b>radians</b> du module math.<br><br>\n",
    "<b>Pour tester votre programme</b>, vous pouvez utiliser les exemples suivants :  \n",
    "Voici les coordonnées géographiques (arrondies à 2 chiffres après la virgule) de quelques villes :<br> \n",
    "-Paris : latitude : 48.86 ; longitude : 2.35<br>\n",
    "-New York : latitude : 40.71 ; longitude : -74.01<br>\n",
    "-Moscou : latitude : 55.76 ; longitude : 37.62<br><br>\n",
    "Voici les distances entre ces villes :<br>\n",
    "Paris - New York : 5837 km\n",
    "Paris - Moscou : 2486 km\n",
    "Moscou - New york : 7510 km\n",
    "\n",
    "\n"
   ]
  },
  {
   "cell_type": "code",
   "execution_count": null,
   "metadata": {
    "collapsed": true
   },
   "outputs": [],
   "source": [
    "from math import sin, cos, acos, radians         # On importe les fonctions nécessaires\n",
    "\n",
    "latitude1=float(input(\"donner la latitude du premier point (écriture décimale) : \"))       # On saisie les coordonnées\n",
    "longitude1=float(input(\"donner la longitude du premier point (écriture décimale) : \"))\n",
    "latitude2=float(input(\"donner la latitude du second point (écriture décimale) :\"))\n",
    "longitude2=float(input(\"donner la longitude du second point (écriture décimale) : \"))\n",
    "lat1=radians(latitude1)                                   # On transforme les coordonnées en radians  \n",
    "long1=radians(- - -)\n",
    "lat1=radians(- - -)\n",
    "long1=radians(- - -)\n",
    "distance = 6371*acos(sin(- - -)*sin(- - -) + cos(- - -)*cos(- - -)*cos(- - -))  # On calcule l&apos;orthodromie\n",
    "print(\"la distance est : \", - - -, \" km\")                                        # On affiche la distance"
   ]
  }
 ],
 "metadata": {
  "kernelspec": {
   "display_name": "Python 3",
   "language": "python",
   "name": "python3"
  },
  "language_info": {
   "codemirror_mode": {
    "name": "ipython",
    "version": 3
   },
   "file_extension": ".py",
   "mimetype": "text/x-python",
   "name": "python",
   "nbconvert_exporter": "python",
   "pygments_lexer": "ipython3",
   "version": "3.4.5"
  }
 },
 "nbformat": 4,
 "nbformat_minor": 2
}
