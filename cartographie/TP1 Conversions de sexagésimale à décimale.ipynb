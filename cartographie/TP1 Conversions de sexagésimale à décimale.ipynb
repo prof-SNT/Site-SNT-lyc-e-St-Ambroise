{
 "cells": [
  {
   "cell_type": "markdown",
   "metadata": {},
   "source": [
    "<h1 style=\"color:teal;\">TP1 Conversion de sexagésimale à décimale</h1>"
   ]
  },
  {
   "cell_type": "markdown",
   "metadata": {},
   "source": [
    "<h3><span style=\"text-decoration: underline;\"><b>Rappels :</b></span><br></h3>\n",
    "Les <b>latitudes</b> et les <b>longitude</b> admettent deux écritures : <br><br>\n",
    "L&apos;écriture <b>sexagésimale</b> qui est composée de :<br>\n",
    "-Trois valeurs numériques : les <b>degrés</b>, les <b>minutes</b> et les <b>secondes</b> qui donnent la mesure de l&apos;angle ;<br>\n",
    "-Une indication sur l&apos;orientation : <b>Nord</b> ou <b>Sud</b> pour les latitudes et <b>Ouest</b> ou <b>Est</b> pour les longitudes.<br>\n",
    "<b>Exemples</b> : Pour les latitudes : 15° 33' 27\" N, pour les longitudes : 28° 24' 18\" O<br><br>\n",
    "L&apos;écriture <b>décimale</b> qui est constituée :<br>\n",
    "-Pour les latitudes, d'un nombre décimal <b>positif</b> si l&apos;orientation est \"Nord\" et <b>négatif</b> si l&apos;orientation est \"Sud\".<br>\n",
    "-Pour les longitudes, d'un nombre décimal <b>positif</b> si l&apos;orientation est \"Est\" et <b>négatif</b> si l&apos;orientation est \"Ouest\".<br><br>\n",
    "Lorsque l&apos;on connait l'écriture sexagésimale, pour calculer l'écriture décimale, on utilise <b>la formule</b> :<br>\n",
    "<b>degrés + minutes/60 + secondes/3600</b><br>\n",
    "<b>Exemple :</b> 15° 33' 27\" N   en sexagésimale donne 15 + 33/60 + 27/3600 = 15,5575.\n"
   ]
  },
  {
   "cell_type": "markdown",
   "metadata": {},
   "source": [
    "<h3><span style=\"text-decoration: underline;\">Exercice 1</span></h3><br/>\n",
    "<b>Compléter</b> le code suivant (remplacer les \"- - -\" par du code) pour qu&apos;il renvoie l'écriture décimale de la latitude renseignée par l&apos;utilisateur.<br><br>\n",
    "<b><span style=\"tex-decoration:underline;\">Rappels sur Python :</span></b><br>\n",
    "-L&apos;instruction <b>input()</b> permet de saisir une donnée en entrée (donnée renseignée par l'utilisateur). Cette donnée est toujours une chaine de caractères.<br>\n",
    "-La fonction <b>int()</b> permet de transformer une variable en un entier (lorsque cela est possible).<br>\n",
    "-L&apos;instruction <b>print()</b> permet : d&apos;afficher du texte : print(\"bonjour\") ou une variable : print(nomVariable) ou les deux : print(\"bonjour\", nomVariable).<br><br>\n",
    "<b>Pour tester votre programme</b>, vous pouvez utiliser les valeurs suivantes :<br>\n",
    "47° 48' 27\" N donne 47.8075<br>\n",
    "73° 51' 9\" S donne -73.8525<br>\n",
    "4° 3' 45\" S donne -4.0625<br>\n",
    "18° 15' 54\" N donne 18.265<br>"
   ]
  },
  {
   "cell_type": "code",
   "execution_count": null,
   "metadata": {
    "collapsed": true
   },
   "outputs": [],
   "source": [
    "degres=int(input(\"donner les degrés (un entier entre 0 et 90) : \"))         # On demande à l'utilisateur les degrés\n",
    "minutes=int(input(\"donner les minutes (un entier entre 0 et 59) : \"))       # On demande les minutes\n",
    "secondes=int(input(\"donner les secondes(un entier entre 0 et 59 : \"))      # On demande les secondes\n",
    "orientation=input(\"donner l'orientation : N pour Nord ou S pour Sud : \")   # On demande l'orientation\n",
    "if orientation==\"N\":                                    # Si l'orientation est \"Nord\"\n",
    "    decimale= - - -                                     # On calcule l'écriture décimale en utilisant la formule ci dessus\n",
    "    print(\"l'écriture décimale est : \", - - - )          # On affiche cette écriture\n",
    "else:                                                   # Sinon\n",
    "    if orientation== ---:                               # Si l'orientation est ...\n",
    "        decimale= - - -                                 # On calcule l'écriture décimale\n",
    "        print(\"l'écriture décimale est : \", - - - )      # On affiche cette écriture\n",
    "    else:                                               # Sinon c'est que l'orientation n'a pas été correctement renseignée\n",
    "        print(\"vous n'avez pas renseigné correctement l'orientation \")\n"
   ]
  },
  {
   "cell_type": "markdown",
   "metadata": {},
   "source": [
    "<h3><span style=\"text-decoration: underline;\">Exercice 2</span></h3><br/>\n",
    "<b>Compléter</b> le code suivant (remplacer les \"- - -\" par du code) pour qu&apos;il renvoie l&apos;écriture décimale de la longitude renseignée par l&apos;utilisateur.<br><br>\n",
    "<b>Pour tester votre programme</b>, vous pouvez utiliser les exemples de l'exercice 1 en remplaçant N par E et S par O."
   ]
  },
  {
   "cell_type": "code",
   "execution_count": null,
   "metadata": {
    "collapsed": true
   },
   "outputs": [],
   "source": [
    "degres=int(input(\"donner les degrés (un entier entre 0 et 90) : \"))          # On demande à l'utilisateur les degrés\n",
    "minutes=int(input(\"donner les minutes (un entier entre 0 et 59) : \"))        # On demande les minutes\n",
    "secondes=int(input(\"donner les secondes(un entier entre 0 et 59) : \"))       # On demande les secondes\n",
    "orientation=input(\"donner l'orientation : E pour Est ou O pour Ouest : \")   # On demande l'orientation\n",
    "if - - - :                                    \n",
    "     - - -                                     \n",
    "    print(\"l'écriture décimale est : \", - - - )          \n",
    "else:                                                   \n",
    "    if  - - - :                               \n",
    "         - - -                                 \n",
    "        print(\"l'écriture décimale est : \", - - - )      \n",
    "    else:                                               \n",
    "        print(\"vous n'avez pas renseigné correctement l'orientation \")"
   ]
  }
 ],
 "metadata": {
  "kernelspec": {
   "display_name": "Python 3",
   "language": "python",
   "name": "python3"
  },
  "language_info": {
   "codemirror_mode": {
    "name": "ipython",
    "version": 3
   },
   "file_extension": ".py",
   "mimetype": "text/x-python",
   "name": "python",
   "nbconvert_exporter": "python",
   "pygments_lexer": "ipython3",
   "version": "3.4.5"
  }
 },
 "nbformat": 4,
 "nbformat_minor": 2
}
