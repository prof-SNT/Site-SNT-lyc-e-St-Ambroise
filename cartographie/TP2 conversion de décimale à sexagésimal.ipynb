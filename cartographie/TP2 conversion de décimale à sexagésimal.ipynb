{
 "cells": [
  {
   "cell_type": "markdown",
   "metadata": {},
   "source": [
    "<h1 style=\"color:teal;\">TP2 Conversion de décimale à sexagésimale</h1>"
   ]
  },
  {
   "cell_type": "markdown",
   "metadata": {},
   "source": [
    "<h3><span style=\"text-decoration: underline;\"><b>Exemple :</b></span></h3><br>\n",
    "Une latitude de -47.355 se transforme ainsi :<br>\n",
    "Le nombre est négatif, donc son orientation est \"Sud\". On travaille ensuite avec : 47.3551<br>\n",
    "La partie entière de ce nombre correspond aux degrés. Le nombre de degrés est donc 47.<br>\n",
    "On travaille ensuite avec 47.3551 - 47 = 0.3551<br>\n",
    "0.3551 &#42; 60 = 21.306 La partie entière de ce nombre est 21. Cela correspond aux minutes.<br>\n",
    "On travaille ensuite avec 21.306 - 21 = 0.306<br>\n",
    "0.306 &#42; 60 = 18.36 La partie entière de ce nombre est 18. Cela correspond aux secondes.<br>\n",
    "Le reste est négligé.<br>\n",
    "La latitude -47.3551 se traduit en sexagésimele par : 47° 21' 18\" N<br><br>\n",
    "<h3><span style=\"text-decoration: underline;\"><b>Méthode :</b></span></h3><br>\n",
    "Pour passer de l&apos;écriture décimale à l&apos;écriture sexagésimale (d&apos;une latitude ou d&apos;une longitude), on détermine d&apos;abord l&apos;orientation en regardant le signe de cette valeur décimale.<br>\n",
    "On ne garde ensuite que la valeur absolue de cette valeur décimale (on ne considère plus le signe).<br>\n",
    "La partie entière de cette valeur absolue correspond au nombre de degrés.<br>\n",
    "La partie décimale va donner les minutes et les secondes.<br>\n",
    "Pour déterminer les minutes, il faut multiplier cette partie décimale par 60 pour la convertir en minutes. Les minutes correspondent à la partie entière du résultat obtenu.<br>\n",
    "Pour déterminer les secondes, il faut multiplier cette partie décimale par 60 pour la convertir en seconde et prendre la partie entière du résultat obtenu.<br>\n",
    "Le reste éventuel est négligé.<br>"
   ]
  },
  {
   "cell_type": "markdown",
   "metadata": {},
   "source": [
    "<h3><span style=\"text-decoration: underline;\">Exercice 1</span></h3><br/>\n",
    "<b>Compléter</b> le code suivant (remplacer les \"- - -\" par du code) pour qu&apos;il renvoie l&apos;écriture sexagésimale de la latitude renseignée par l&apos;utilisateur.<br><br>\n",
    "<b><span style=\"tex-decoration:underline;\">Rappels sur Python :</span></b><br>\n",
    "-La fonction <b>float()</b> permet de transformer une variable en un nombre décimal (lorsque cela est possible).<br>\n",
    "-La fonction <b>round()</b> permet d'arrondir une valeur avec la précision que l&apos;on veut : round(variable, présision).<br> Exemples : round(12.2368 , 3) permet d&apos;arrondir à trois chiffres après la virgule (cela donne ici 12.237);<br> round(12.2368 , 0) permet d&apos;arrondir à l&apos;unité (cela donne ici 12). <br><br>\n",
    "La fonction round() est nécessaire ici pour tenir compte de la méthode de codage des nombres décimaux en langage machine.<br><br>\n",
    "<b>Pour tester votre programme</b>, vous pouvez réutiliser les valeurs du TP1 :<br>\n",
    "47.8075 donne 47° 48' 27\" N<br>\n",
    "-73.8525 donne 73° 51' 9\" S <br>\n",
    "4.0625 donne -4° 3' 45\" S<br>\n",
    "18.265 donne 18° 15' 54\" N<br>"
   ]
  },
  {
   "cell_type": "code",
   "execution_count": null,
   "metadata": {
    "collapsed": true
   },
   "outputs": [],
   "source": [
    "decimale=float(input(\"donner l'écriture décimale d'une latitude : \")) # On demande à l'utilisateur une latitude\n",
    "if decimale - - - :                         # On teste le signe de decimale\n",
    "    orientation =\"N\"                        # Si ce signe est positif, c'est que l'orientation est : \"Nord\"\n",
    "else:                                       # sinon ...\n",
    "    orientation= - - -\n",
    "    decimale = -decimale                    # On ne garde que la valeur absolue de decimale\n",
    "degres = - - -                              # De cette valeur absolue, on tire les degrés\n",
    "reste = decimale - degres                   # Une fois trouvé les degrés, on garde le reste\n",
    "reste = reste*60                            # On multiplie ce reste par 60 pour le convertir en minutes\n",
    "minutes = int(round(reste, 0))              # On en déduit les minutes\n",
    "reste = reste - minutes                     # on réitère le même procédé pour obtenir les secondes\n",
    "reste = reste*60\n",
    "secondes =int(round((- - - ,0))\n",
    "print(- - - ,\"° \", - - - ,\"' \", - - - ,'\" ', - - -)       # On affiche la latitude en écriture sexagésimale"
   ]
  },
  {
   "cell_type": "markdown",
   "metadata": {},
   "source": [
    "<h3><span style=\"text-decoration: underline;\">Exercice 2</span></h3><br/>\n",
    "<b>Compléter</b> le code suivant (remplacer les \"- - -\" par du code) pour qu&apos;il renvoie l&apos;écriture sexagésimale\n",
    "de la longitude renseignée par l&apos;utilisateur.<br><br>\n",
    "<b>Pour tester votre programme</b>, vous pouvez utiliser les exemples de l'exercice 1 en remplaçant N par E et S par O."
   ]
  },
  {
   "cell_type": "code",
   "execution_count": null,
   "metadata": {
    "collapsed": true
   },
   "outputs": [],
   "source": [
    "decimale=float(input(\"donner l'écriture décimale d'une longitude : \")) # On demande à l'utilisateur une latitude\n",
    "if decimale - - - :                         # On teste le signe de decimale\n",
    "    orientation = - - -                     \n",
    "else:                                       # sinon ...\n",
    "    orientation= - - -\n",
    "    decimale = -decimale                    # On ne garde que la valeur absolue de decimale\n",
    "degres = - - -                              # De cette valeur absolue, on tire les degrés\n",
    "reste = decimale - degres                   # Une fois trouvé les degrés, on garde le reste\n",
    "reste = reste*60                            # On multiplie ce reste par 60 pour le convertir en minutes\n",
    "minutes = int(round(reste, 0))              # On en déduit les minutes\n",
    "reste = reste - minutes                     # on réitère le même procédé pour obtenir les secondes\n",
    "reste = reste*60\n",
    "secondes =int(round((- - - ,0))\n",
    "print(- - - ,\"° \", - - - ,\"' \", - - - ,'\" ', - - -)       # On affiche la longitude en écriture sexagésimale"
   ]
  }
 ],
 "metadata": {
  "kernelspec": {
   "display_name": "Python 3",
   "language": "python",
   "name": "python3"
  },
  "language_info": {
   "codemirror_mode": {
    "name": "ipython",
    "version": 3
   },
   "file_extension": ".py",
   "mimetype": "text/x-python",
   "name": "python",
   "nbconvert_exporter": "python",
   "pygments_lexer": "ipython3",
   "version": "3.4.5"
  }
 },
 "nbformat": 4,
 "nbformat_minor": 2
}
