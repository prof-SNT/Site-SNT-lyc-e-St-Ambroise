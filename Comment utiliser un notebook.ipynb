{
 "cells": [
  {
   "cell_type": "markdown",
   "metadata": {},
   "source": [
    "<h1 style=\"color:teal;\"> Comment utiliser un notebook</h1>"
   ]
  },
  {
   "cell_type": "markdown",
   "metadata": {},
   "source": [
    "Une **cellule** qui contient du code Python est précédée du mot <span style=\"color:blue;\">Entrée [   ] : </span><br/>\n",
    "Pour exécuter ce code Python, il fait tout d'abord **cliquer** sur cette cellule, puis il faut cliquer sur l'onglet **Exécuter** situé dans la barre d'outils ci-dessus.<br/>\n",
    "Il est important de bien exécuter les cellules dans l'ordre, c'est à dire de haut en bas."
   ]
  },
  {
   "cell_type": "markdown",
   "metadata": {},
   "source": [
    "**Exemple** : cliquer sur la cellule ci-dessous, puis cliquer dans la barre d'outils sur l'onglet **Exécuter**.<br/><br/>\n",
    "Le code doit alors afficher <span style=\"color:red\"> <b>J'ai réussi !</b> </span> en dessous de la cellule."
   ]
  },
  {
   "cell_type": "code",
   "execution_count": null,
   "metadata": {},
   "outputs": [],
   "source": [
    "print(\"J'ai réussi\")"
   ]
  },
  {
   "cell_type": "markdown",
   "metadata": {},
   "source": [
    "**Modifier** le code suivant pour qu'il affiche <span style=\"color:red;\"> <b> Je suis trop fort !</b><span>"
   ]
  },
  {
   "cell_type": "code",
   "execution_count": null,
   "metadata": {},
   "outputs": [],
   "source": [
    "print(\"je n'y arriverai jamais\")"
   ]
  },
  {
   "cell_type": "markdown",
   "metadata": {},
   "source": [
    "Si vous avez réussi ce test difficile, vous pouvez maintenant passer aux autres TP. Bravo !"
   ]
  }
 ],
 "metadata": {
  "kernelspec": {
   "display_name": "Python 3",
   "language": "python",
   "name": "python3"
  },
  "language_info": {
   "codemirror_mode": {
    "name": "ipython",
    "version": 3
   },
   "file_extension": ".py",
   "mimetype": "text/x-python",
   "name": "python",
   "nbconvert_exporter": "python",
   "pygments_lexer": "ipython3",
   "version": "3.7.6"
  }
 },
 "nbformat": 4,
 "nbformat_minor": 4
}
