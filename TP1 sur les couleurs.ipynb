{
 "cells": [
  {
   "cell_type": "markdown",
   "metadata": {
    "collapsed": true
   },
   "source": [
    "<h1 style=\"color:teal;\">TP1 sur les couleurs</h1>"
   ]
  },
  {
   "cell_type": "markdown",
   "metadata": {},
   "source": [
    "<h3>On consière l'image suivante <img src=\"coucher de soleil.jpg\" alt=\"image\" width=200 height=100  > </h3>"
   ]
  },
  {
   "cell_type": "markdown",
   "metadata": {},
   "source": [
    "<h3>Le code suivant permet de ne garder que la composante *rouge* de chaque pixel <br/><br/>\n",
    "Exécuter ce code pour voir apparaître l'image</h3> \n"
   ]
  },
  {
   "cell_type": "code",
   "execution_count": null,
   "metadata": {
    "collapsed": true
   },
   "outputs": [],
   "source": [
    "from PILLOW import Image\n",
    "# on importe le module Image de la bibliothèque PIL\n",
    "\n",
    "img=Image.open(\"coucher de soleil.jpg\")     # ouvre la photo et la stocke dans la variable img\n",
    "largeur, hauteur = img.size                 # permet de récupérer les dimensions de l'image\n",
    "img2=Image.new(\"RGB\", (largeur, hauteur))   # créer une autre image codé en RVB de même dimension que img\n",
    "\n",
    "for i in range(largeur):                    # on parcourt tous les pixels en largeur de img\n",
    "    for j in range(hauteur):                # et tous les pixels en hauteur de img\n",
    "        r, v, b = img.getpixel((i, j))\n",
    "        # on récupère les trois composantes de couleur du pixel de coordonnées (i, j)\n",
    "        img2.putpixel((i, j), (r, 0, 0))\n",
    "        # on colore le pixel de coordonnées (i, j) de img2 en n'utilisant que la composante rouge de img\n",
    "\n",
    "img2.show()                                  # on affiche img2"
   ]
  },
  {
   "cell_type": "code",
   "execution_count": null,
   "metadata": {
    "collapsed": true
   },
   "outputs": [],
   "source": []
  }
 ],
 "metadata": {
  "kernelspec": {
   "display_name": "Python 3",
   "language": "python",
   "name": "python3"
  },
  "language_info": {
   "codemirror_mode": {
    "name": "ipython",
    "version": 3
   },
   "file_extension": ".py",
   "mimetype": "text/x-python",
   "name": "python",
   "nbconvert_exporter": "python",
   "pygments_lexer": "ipython3",
   "version": "3.4.5"
  }
 },
 "nbformat": 4,
 "nbformat_minor": 2
}
