{
 "cells": [
  {
   "cell_type": "markdown",
   "metadata": {
    "collapsed": true
   },
   "source": [
    "<h1 style=\"color:teal;\">TP1 sur les couleurs</h1>"
   ]
  },
  {
   "cell_type": "markdown",
   "metadata": {},
   "source": [
    "**Exécuter** le code suivant pour installer les modules nécessaires pour la suite."
   ]
  },
  {
   "cell_type": "code",
   "execution_count": null,
   "metadata": {
    "collapsed": true
   },
   "outputs": [],
   "source": [
    "%pip install numpy\n",
    "%pip install matplotlib\n",
    "%pip install pillow\n",
    "\n",
    "from numpy import copy                # On importe les modules nécessaires\n",
    "from matplotlib import image\n",
    "from matplotlib import pyplot\n",
    "from PIL import Image"
   ]
  },
  {
   "cell_type": "markdown",
   "metadata": {},
   "source": [
    "<h3>On consière l'image suivante <img src=\"image1.png\" alt=\"image\" width=200 height=100  > </h3>"
   ]
  },
  {
   "cell_type": "markdown",
   "metadata": {},
   "source": [
    "Le code suivant permet de ne garder que la composante <i>rouge</i> de chaque pixel de l'image précédente<br/><br/>\n",
    "Exécuter ce code, une image devrait s'ouvir en dessous. \n"
   ]
  },
  {
   "cell_type": "code",
   "execution_count": null,
   "metadata": {
    "collapsed": true
   },
   "outputs": [],
   "source": [
    "import numpy as np                         # On importe les modules nécessaires\n",
    "import matplotlib.image as mi\n",
    "import matplotlib.pyplot as mp\n",
    "\n",
    "img = mi.imread(\"image1.png\")      # On récupère image1\n",
    "img2 = np.copy(img)                      # On fait une copie de l'original\n",
    "for i in range(img.shape[0]):         # On parcourt la photo pixel par pixel en largeur et en hauteur\n",
    "    for j in range(img.shape[1]):\n",
    "        r, v, b = img2[i, j]          # On récupère les trois composantes r, v, b du pixel de coordonnnées (i, j)\n",
    "        img2[i, j] = (r, 0, 0)        # On change la couleur de ce pixel\n",
    "\n",
    "mp.imshow(img2)\n",
    "mp.show()                         # on affiche l'image modifiée"
   ]
  },
  {
   "cell_type": "markdown",
   "metadata": {},
   "source": [
    "<br>**Modifier** le code suivant pour que s'affiche une image extraite de \"image1\" qui ne contienne que la composante verte des couleurs."
   ]
  },
  {
   "cell_type": "code",
   "execution_count": null,
   "metadata": {
    "collapsed": true
   },
   "outputs": [],
   "source": [
    "img = image.imread(\"image1.png\")      # On récupère image1\n",
    "img2 = copy(img)                      # On fait une copie de l'original\n",
    "for i in range(img.shape[0]):         # On parcourt la photo pixel par pixel en largeur et en hauteur\n",
    "    for j in range(img.shape[1]):\n",
    "        r, v, b = img2[i, j]          # On récupère les trois composantes r, v, b du pixel de coordonnnées (i, j)\n",
    "        img2[i, j] = (r, 0, 0)        # On change la couleur de ce pixel\n",
    "\n",
    "pyplot.imshow(img2)\n",
    "pyplot.show()                         # on affiche l'image modifiée"
   ]
  },
  {
   "cell_type": "markdown",
   "metadata": {},
   "source": [
    "<br>**Modifier** le code suivant pour que s'affiche une image extraite de \"image1\" qui ne contienne que la composante bleur des couleurs."
   ]
  },
  {
   "cell_type": "code",
   "execution_count": null,
   "metadata": {
    "collapsed": true
   },
   "outputs": [],
   "source": [
    "img = image.imread(\"image1.png\")      # On récupère image1\n",
    "img2 = copy(img)                      # On fait une copie de l'original\n",
    "for i in range(img.shape[0]):         # On parcourt la photo pixel par pixel en largeur et en hauteur\n",
    "    for j in range(img.shape[1]):\n",
    "        r, v, b = img2[i, j]          # On récupère les trois composantes r, v, b du pixel de coordonnnées (i, j)\n",
    "        img2[i, j] = (r, 0, 0)        # On change la couleur de ce pixel\n",
    "\n",
    "pyplot.imshow(img2)\n",
    "pyplot.show()                         # on affiche l'image modifiée"
   ]
  },
  {
   "cell_type": "markdown",
   "metadata": {},
   "source": [
    "<br><h3>On veut désormais transformer l'image précédente en niveau de gris.</h3>"
   ]
  },
  {
   "cell_type": "markdown",
   "metadata": {},
   "source": [
    "Pour transformer une image en niveau de gris, il faut que pour chaque pixel, les composantes rouge, verte et bleue soient égales (exemples : (114, 114, 144) ou (52, 52,52) …).<br/>\n",
    "Pour cela, nous allons remplacer chacune des trois composantes par la **moyenne** des trois composantes RVB de départ.\n",
    "En clair, nous allons utiliser une nouvelle variable g (g comme gris).<br/>\n",
    "Attention, lorsque l'on calcule la moyenne de trois entiers, celle-ci ne sera pas une variable de type entier mais un nombre décimal.<br/> Ce qui posera problème pour la suite car les composantes de couleurs doivent être des entiers (entre 0 et 255 pour être codés sur un octet).<br/>\n",
    "Il est donc nécessaire d'utiliser la fonction **int()** qui permet de transformer une valeur décimale en un entier. <br/>\n",
    "**Syntaxe** : g=int((r+v+b)/3)\n"
   ]
  },
  {
   "cell_type": "markdown",
   "metadata": {},
   "source": [
    "**Modifier** le code suivant pour obtenir cette image (en niveau de gris)."
   ]
  },
  {
   "cell_type": "code",
   "execution_count": null,
   "metadata": {
    "collapsed": true
   },
   "outputs": [],
   "source": [
    "from PIL import Image\n",
    "# on importe le module Image de la bibliothèque PIL\n",
    "\n",
    "img=Image.open(\"image1.png\")     # ouvre la photo et la stocke dans la variable img\n",
    "largeur, hauteur = img.size                 # permet de récupérer les dimensions de l'image\n",
    "img2=Image.new(\"RGB\", (largeur, hauteur))   # créer une autre image codé en RVB de même dimension que img\n",
    "\n",
    "for i in range(largeur):                    # on parcourt tous les pixels en largeur de img\n",
    "    for j in range(hauteur):                # et tous les pixels en hauteur de img\n",
    "       r, v, b = img.getpixel((i, j))\n",
    "       # on récupère les trois composantes de couleur du pixel de coordonnées (i, j)\n",
    "       g=int((r+v+b)/3)\n",
    "       img2.putpixel((i, j), (g, g, g))\n",
    "       # on colore le pixel de coordonnées (i, j) de img2 en n'utilisant que la composante rouge de img\n",
    "\n",
    "img2.show()                                  # on affiche img2"
   ]
  }
 ],
 "metadata": {
  "kernelspec": {
   "display_name": "Python 3",
   "language": "python",
   "name": "python3"
  },
  "language_info": {
   "codemirror_mode": {
    "name": "ipython",
    "version": 3
   },
   "file_extension": ".py",
   "mimetype": "text/x-python",
   "name": "python",
   "nbconvert_exporter": "python",
   "pygments_lexer": "ipython3",
   "version": "3.4.5"
  }
 },
 "nbformat": 4,
 "nbformat_minor": 2
}
