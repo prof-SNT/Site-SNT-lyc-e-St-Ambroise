{
 "cells": [
  {
   "cell_type": "markdown",
   "metadata": {
    "collapsed": true
   },
   "source": [
    "<h1 style=\"color:teal;\">TP1 sur les couleurs</h1>"
   ]
  },
  {
   "cell_type": "markdown",
   "metadata": {},
   "source": [
    "<h3>Tout au long de l'exercice, nous allons travailler avec l'image suivante<br/> </h3><img src=\"image1.png\" alt=\"image\" width=300 height=250  > "
   ]
  },
  {
   "cell_type": "markdown",
   "metadata": {},
   "source": [
    "<br/><br/><h2 style=\"color:rgb(100, 100, 255);\">Partie I : Modifier les couleurs de l&apos; image</h2>"
   ]
  },
  {
   "cell_type": "markdown",
   "metadata": {},
   "source": [
    "<h3><span style=\"text-decoration: underline;\">Exercice 1</span></h3><br/>\n",
    "Le code suivant permet de ne garder que la composante <b style=\"color:red;\"><i>rouge</i> </b> de chaque pixel de l'image précédente<br/><br/>\n",
    "Exécuter ce code (cliquer sur le cellule de code puis sur l'onglet Exécuter), une image devrait s'ouvir en dessous. \n"
   ]
  },
  {
   "cell_type": "code",
   "execution_count": null,
   "metadata": {},
   "outputs": [],
   "source": [
    "from numpy import copy                # on importe les modules nécessaires     \n",
    "from matplotlib import image\n",
    "from matplotlib import pyplot\n",
    "\n",
    "img = image.imread(\"image1.png\")      # On récupère image1\n",
    "img2 = copy(img)                      # On fait une copie de l'original\n",
    "largeur=img.shape[0]                  # on récupère le nombre de pixels en largueur de l'image\n",
    "hauteur=img.shape[1]                  # on récupère le nombre de pixels en hauteur de l'image\n",
    "for i in range(largeur):              # On parcourt la photo pixel par pixel en largeur et en hauteur\n",
    "    for j in range(hauteur):\n",
    "        r, v, b = img2[i, j]          # On récupère les trois composantes r, v, b du pixel de coordonnnées (i, j)\n",
    "        img2[i, j] = (r, 0, 0)        # On change la couleur de ce pixel\n",
    "\n",
    "pyplot.imshow(img2)\n",
    "pyplot.show()                         # on affiche l'image modifiée"
   ]
  },
  {
   "cell_type": "markdown",
   "metadata": {},
   "source": [
    "<h3><span style=\"text-decoration: underline;\">Exercice 2</span></h3><br/>\n",
    "<b>Modifier</b> le code suivant pour que s&apos;affiche une image extraite de \"image1\" qui ne contienne que la composante <b style=\"color:green;\"><i>verte</i> </b> des couleurs."
   ]
  },
  {
   "cell_type": "code",
   "execution_count": null,
   "metadata": {
    "collapsed": true
   },
   "outputs": [],
   "source": [
    "from numpy import copy                # on importe les modules nécessaires     \n",
    "from matplotlib import image\n",
    "from matplotlib import pyplot\n",
    "\n",
    "img = image.imread(\"image1.png\")      # On récupère image1\n",
    "img2 = copy(img)                      # On fait une copie de l'original\n",
    "largeur=img.shape[0]                  # on récupère le nombre de pixels en largueur de l'image\n",
    "hauteur=img.shape[1]                  # on récupère le nombre de pixels en hauteur de l'image\n",
    "for i in range(largeur):              # On parcourt la photo pixel par pixel en largeur et en hauteur\n",
    "    for j in range(hauteur):\n",
    "        r, v, b = img2[i, j]          # On récupère les trois composantes r, v, b du pixel de coordonnnées (i, j)\n",
    "        img2[i, j] = (r, 0, 0)        # On change la couleur de ce pixel\n",
    "\n",
    "pyplot.imshow(img2)\n",
    "pyplot.show()                         # on affiche l'image modifiée"
   ]
  },
  {
   "cell_type": "markdown",
   "metadata": {},
   "source": [
    "<h3><span style=\"text-decoration: underline;\">Exercice 3</span></h3><br/>\n",
    "<b>Modifier</b> le code suivant pour que s&apos;affiche une image extraite de \"image1\" qui ne contienne que la composante <b style=\"color:blue;\"><i>bleue</i> </b> des couleurs."
   ]
  },
  {
   "cell_type": "code",
   "execution_count": null,
   "metadata": {
    "collapsed": true
   },
   "outputs": [],
   "source": [
    "from numpy import copy                # on importe les modules nécessaires     \n",
    "from matplotlib import image\n",
    "from matplotlib import pyplot\n",
    "\n",
    "img = image.imread(\"image1.png\")      # On récupère image1\n",
    "img2 = copy(img)                      # On fait une copie de l'original\n",
    "largeur=img.shape[0]                  # on récupère le nombre de pixels en largueur de l'image\n",
    "hauteur=img.shape[1]                  # on récupère le nombre de pixels en hauteur de l'image\n",
    "for i in range(largeur):              # On parcourt la photo pixel par pixel en largeur et en hauteur\n",
    "    for j in range(hauteur):\n",
    "        r, v, b = img2[i, j]          # On récupère les trois composantes r, v, b du pixel de coordonnnées (i, j)\n",
    "        img2[i, j] = (r, 0, 0)        # On change la couleur de ce pixel\n",
    "\n",
    "pyplot.imshow(img2)\n",
    "pyplot.show()                         # on affiche l'image modifiée"
   ]
  },
  {
   "cell_type": "markdown",
   "metadata": {},
   "source": [
    "<br/><br/>\n",
    "<h2 style=\"color:rgb(100, 100, 255);\">Partie II : Transformer l&apos;image en niveau de gris</h2>"
   ]
  },
  {
   "cell_type": "markdown",
   "metadata": {},
   "source": [
    "Pour transformer une image en niveau de gris, il faut que pour chaque pixel, les composantes rouge, verte et bleue soient égales (exemples : (114, 114, 144) ou (52, 52,52) …).<br/>\n",
    "Pour cela, nous allons remplacer chacune des trois composantes par la <b>moyenne</b> des trois composantes RVB de départ.<br/>\n",
    "Vous utiliserez donc une nouvelle variable g qui sera la moyenne des trois valeurs r, v et b.<br/>\n",
    "<b>Attention</b>, dans le module numpy les composantes couleurs : r, v, b sont des nombres décimaux compris entre 0 et 1 et non des entiers compris entre 0 et 255.\n"
   ]
  },
  {
   "cell_type": "markdown",
   "metadata": {},
   "source": [
    "<h3><span style=\"text-decoration: underline;\">Exercice 4</span></h3><br/>\n",
    "<b>Modifier</b> le code suivant pour que s'affiche \"image1\" en niveau de gris."
   ]
  },
  {
   "cell_type": "code",
   "execution_count": null,
   "metadata": {
    "collapsed": true
   },
   "outputs": [],
   "source": [
    "from numpy import copy                # on importe les modules nécessaires     \n",
    "from matplotlib import image\n",
    "from matplotlib import pyplot\n",
    "\n",
    "img = image.imread(\"image1.png\")      # On récupère image1\n",
    "img2 = copy(img)                      # On fait une copie de l'original\n",
    "largeur=img.shape[0]                  # on récupère le nombre de pixels en largueur de l'image\n",
    "hauteur=img.shape[1]                  # on récupère le nombre de pixels en hauteur de l'image\n",
    "for i in range(largeur):              # On parcourt la photo pixel par pixel en largeur et en hauteur\n",
    "    for j in range(hauteur):\n",
    "        r, v, b = img2[i, j]          # On récupère les trois composantes r, v, b du pixel de coordonnnées (i, j)\n",
    "        img2[i, j] = (r, 0, 0)        # On change la couleur de ce pixel\n",
    "\n",
    "pyplot.imshow(img2)\n",
    "pyplot.show()                         # on affiche l'image modifiée"
   ]
  },
  {
   "cell_type": "markdown",
   "metadata": {},
   "source": [
    "<br/><h2><span style=\"color:rgb(100,100,255);\">Partie III:  Obtenir le négatif d&apos;une photo</span></h2>"
   ]
  },
  {
   "cell_type": "markdown",
   "metadata": {},
   "source": [
    "<b>Une image négative</b> est une image dont les couleurs ont été inversées par rapport à l’originale.<br/><br/>\n",
    "Par exemple le rouge (255, 0,0) devient cyan (0, 255, 255), le vert (0, 255, 0) devient magenta (255, 0, 255), le bleu (0, 0, 255) devient jaune (255, 255,0) et inversement.<br/><br/>\n",
    "Les régions sombres deviennent claires, le noir devient blanc. <br/><br/>\n",
    "Pour obtenir le négatif d'une image, il suffit d’inverser les niveaux de chacune des couleurs primaires : un pixel initialement à (120, 10, 250) deviendra (255-120, 255-10, 255-250)=(135, 245, 5).<br/><br/>\n",
    "<b>Attention</b>, dans le module numpy les composantes couleurs : r, v, b sont des nombres décimaux compris entre 0 et 1 et non des entiers compris entre 0 et 255. Donc le négatif d'un pixel initialement à (0.14, 0.85, 0,52) sera (1-0.14, 1-0.85, 1-0.52)=(0.86, 0.15, 0.48)"
   ]
  },
  {
   "cell_type": "markdown",
   "metadata": {},
   "source": [
    "<h3><span style=\"text-decoration: underline;\">Exercice 5</span></h3><br/>\n",
    "<b>Modifier</b> le code suivant pour obtenir le négatif de \"image1\"."
   ]
  },
  {
   "cell_type": "code",
   "execution_count": null,
   "metadata": {
    "collapsed": true
   },
   "outputs": [],
   "source": [
    "from numpy import copy                # on importe les modules nécessaires     \n",
    "from matplotlib import image\n",
    "from matplotlib import pyplot\n",
    "\n",
    "img = image.imread(\"image1.png\")      # On récupère image1\n",
    "img2 = copy(img)                      # On fait une copie de l'original\n",
    "largeur=img.shape[0]                  # on récupère le nombre de pixels en largueur de l'image\n",
    "hauteur=img.shape[1]                  # on récupère le nombre de pixels en hauteur de l'image\n",
    "for i in range(largeur):              # On parcourt la photo pixel par pixel en largeur et en hauteur\n",
    "    for j in range(hauteur):\n",
    "        r, v, b = img2[i, j]          # On récupère les trois composantes r, v, b du pixel de coordonnnées (i, j)\n",
    "        img2[i, j] = (r, v, b)        # On change la couleur de ce pixel\n",
    "\n",
    "pyplot.imshow(img2)\n",
    "pyplot.show()                         # on affiche l'image modifiée"
   ]
  }
 ],
 "metadata": {
  "kernelspec": {
   "display_name": "Python 3",
   "language": "python",
   "name": "python3"
  },
  "language_info": {
   "codemirror_mode": {
    "name": "ipython",
    "version": 3
   },
   "file_extension": ".py",
   "mimetype": "text/x-python",
   "name": "python",
   "nbconvert_exporter": "python",
   "pygments_lexer": "ipython3",
   "version": "3.4.5"
  }
 },
 "nbformat": 4,
 "nbformat_minor": 2
}
