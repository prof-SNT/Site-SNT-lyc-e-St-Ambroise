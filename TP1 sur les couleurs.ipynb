{
 "cells": [
  {
   "cell_type": "markdown",
   "metadata": {
    "collapsed": true
   },
   "source": [
    "<h1 style=\"color:teal;\">TP1 sur les couleurs</h1>"
   ]
  },
  {
   "cell_type": "markdown",
   "metadata": {},
   "source": [
    "<h3>On consière l'image suivante <img src=\"coucher de soleil.jpg\" alt=\"image\" width=200 height=100  > </h3>"
   ]
  },
  {
   "cell_type": "markdown",
   "metadata": {},
   "source": [
    "<h3>Le code suivant permet de ne garder que la composante <i>rouge</i> de chaque pixel <br/><br/>\n",
    "Exécuter ce code, une image devrait s'ouvir dans une autre fenêtre</h3> \n"
   ]
  },
  {
   "cell_type": "code",
   "execution_count": 2,
   "metadata": {
    "collapsed": true
   },
   "outputs": [],
   "source": [
    "from IPython.display import display\n",
    "from PIL import Image \n",
    "# on importe le module Image de la bibliothèque PIL\n",
    "\n",
    "img=Image.open(\"coucher de soleil.jpg\")     # ouvre la photo et la stocke dans la variable img\n",
    "largeur, hauteur = img.size                 # permet de récupérer les dimensions de l'image\n",
    "img2=Image.new(\"RGB\", (largeur, hauteur))   # créer une autre image codé en RVB de même dimension que img\n",
    "\n",
    "for i in range(largeur):                    # on parcourt tous les pixels en largeur de img\n",
    "    for j in range(hauteur):                # et tous les pixels en hauteur de img\n",
    "        r, v, b = img.getpixel((i, j))\n",
    "        # on récupère les trois composantes de couleur du pixel de coordonnées (i, j)\n",
    "        img2.putpixel((i, j), (r, 0, 0))\n",
    "        # on colore le pixel de coordonnées (i, j) de img2 en n'utilisant que la composante rouge de img \n",
    "\n",
    "img2.show()"
   ]
  },
  {
   "cell_type": "markdown",
   "metadata": {},
   "source": [
    "<h3>On veut désormais transformer l'image précédente en niveau de gris.</h3>"
   ]
  },
  {
   "cell_type": "markdown",
   "metadata": {},
   "source": [
    "Pour transformer une image en niveau de gris, il faut que pour chaque pixel, les composantes rouge, verte et bleue soient égales (exemples : (114, 114, 144) ou (52, 52,52) …).<br/>\n",
    "Pour cela, nous allons remplacer chacune des trois composantes par la **moyenne** des trois composantes RVB de départ.\n",
    "En clair, nous allons utiliser une nouvelle variable g (g comme gris).<br/>\n",
    "Attention, lorsque l'on calcule la moyenne de trois entiers, celle-ci ne sera pas une variable de type entier mais un nombre décimal.<br/> Ce qui posera problème pour la suite car les composantes de couleurs doivent être des entiers (entre 0 et 255).<br/>\n",
    "Il est donc nécessaire d'utiliser la fonction **int()** qui permet de transformer une valeur décimale en un entier car les composantes de couleurs doivent être entières (entre 0 et 255). <br/>\n",
    "**Syntaxe** : g=int((r+v+b)/3)\n"
   ]
  },
  {
   "cell_type": "markdown",
   "metadata": {},
   "source": [
    "**Modifier** le code suivant pour obtenir cette image (en niveau de gris)."
   ]
  },
  {
   "cell_type": "code",
   "execution_count": 7,
   "metadata": {
    "collapsed": true
   },
   "outputs": [],
   "source": [
    "import PIL \n",
    "# on importe le module Image de la bibliothèque PIL\n",
    "\n",
    "img=PIL.Image.open(\"coucher de soleil.jpg\")     # ouvre la photo et la stocke dans la variable img\n",
    "largeur, hauteur = img.size                 # permet de récupérer les dimensions de l'image\n",
    "img2=PIL.Image.new(\"RGB\", (largeur, hauteur))   # créer une autre image codé en RVB de même dimension que img\n",
    "\n",
    "for i in range(largeur):                    # on parcourt tous les pixels en largeur de img\n",
    "    for j in range(hauteur):                # et tous les pixels en hauteur de img\n",
    "        r, v, b = img.getpixel((i, j))\n",
    "        # on récupère les trois composantes de couleur du pixel de coordonnées (i, j)\n",
    "        img2.putpixel((i, j), (r, v, b))\n",
    "        # on colore le pixel de coordonnées (i, j) de img2 en n'utilisant que la composante rouge de img  \n",
    "img2.show()                                  # on affiche img2"
   ]
  }
 ],
 "metadata": {
  "kernelspec": {
   "display_name": "Python 3",
   "language": "python",
   "name": "python3"
  },
  "language_info": {
   "codemirror_mode": {
    "name": "ipython",
    "version": 3
   },
   "file_extension": ".py",
   "mimetype": "text/x-python",
   "name": "python",
   "nbconvert_exporter": "python",
   "pygments_lexer": "ipython3",
   "version": "3.4.5"
  }
 },
 "nbformat": 4,
 "nbformat_minor": 2
}
